{
 "cells": [
  {
   "cell_type": "code",
   "execution_count": 6,
   "metadata": {},
   "outputs": [
    {
     "name": "stdout",
     "output_type": "stream",
     "text": [
      "This is my string type variable.\n",
      "is my st\n",
      "24\n",
      "My name is: AZIZA and I am: 24\n",
      "['Abby', 'Jace', 'Naveah']\n",
      "['Abby', 'Jace', 'Naveah', 'Emma', 'Jase']\n"
     ]
    },
    {
     "data": {
      "text/plain": [
       "True"
      ]
     },
     "execution_count": 6,
     "metadata": {},
     "output_type": "execute_result"
    }
   ],
   "source": [
    "# 1\n",
    "my_string = 'This is my string type variable.'\n",
    "print (my_string)\n",
    "\n",
    "#2\n",
    "my_cut_string = my_string[5:13]\n",
    "print (my_cut_string)\n",
    "\n",
    "#3\n",
    "my_integer = 1995\n",
    "this_year = 2019\n",
    "\n",
    "#4\n",
    "my_age = this_year - my_integer\n",
    "print (my_age)\n",
    "\n",
    "#5\n",
    "my_name = 'AZIZA'\n",
    "print ('My name is: ' + my_name + ' and I am: ' + repr(my_age))\n",
    "\n",
    "#6\n",
    "my_users = ['Abby', 'Jace', 'Naveah']\n",
    "print(my_users)\n",
    "\n",
    "#7\n",
    "my_users.append('Emma')\n",
    "my_users.append('Jase')\n",
    "print (my_users)\n",
    "\n",
    "#8\n",
    "'Jace' in my_users"
   ]
  },
  {
   "cell_type": "code",
   "execution_count": null,
   "metadata": {},
   "outputs": [],
   "source": []
  }
 ],
 "metadata": {
  "kernelspec": {
   "display_name": "Python 3",
   "language": "python",
   "name": "python3"
  },
  "language_info": {
   "codemirror_mode": {
    "name": "ipython",
    "version": 3
   },
   "file_extension": ".py",
   "mimetype": "text/x-python",
   "name": "python",
   "nbconvert_exporter": "python",
   "pygments_lexer": "ipython3",
   "version": "3.6.5"
  }
 },
 "nbformat": 4,
 "nbformat_minor": 2
}
