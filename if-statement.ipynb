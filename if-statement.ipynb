{
 "cells": [
  {
   "cell_type": "code",
   "execution_count": 1,
   "metadata": {},
   "outputs": [
    {
     "data": {
      "text/plain": [
       "str"
      ]
     },
     "execution_count": 1,
     "metadata": {},
     "output_type": "execute_result"
    }
   ],
   "source": [
    "door = 'open'\n",
    "type(door)"
   ]
  },
  {
   "cell_type": "code",
   "execution_count": 6,
   "metadata": {},
   "outputs": [
    {
     "name": "stdout",
     "output_type": "stream",
     "text": [
      "yes, you can go!!!\n"
     ]
    }
   ],
   "source": [
    "door = 'open'\n",
    "if door == 'open':\n",
    "    print('yes, you can go!!!')\n",
    "elif door == 'close':\n",
    "    print('no, you can not go!!!')"
   ]
  },
  {
   "cell_type": "code",
   "execution_count": 9,
   "metadata": {},
   "outputs": [
    {
     "name": "stdout",
     "output_type": "stream",
     "text": [
      "no, you can not go!!!\n"
     ]
    }
   ],
   "source": [
    "door = 'close'\n",
    "if door == 'open':\n",
    "    print('yes, you can go!!!')\n",
    "elif door == 'close':\n",
    "    print('no, you can not go!!!')"
   ]
  },
  {
   "cell_type": "code",
   "execution_count": 10,
   "metadata": {},
   "outputs": [
    {
     "name": "stdout",
     "output_type": "stream",
     "text": [
      "yes, you can not go!!!\n"
     ]
    }
   ],
   "source": [
    "door = 'open'\n",
    "if door == 'open':\n",
    "    print('yes, you can not go!!!')\n",
    "    "
   ]
  },
  {
   "cell_type": "code",
   "execution_count": 11,
   "metadata": {},
   "outputs": [
    {
     "name": "stdout",
     "output_type": "stream",
     "text": [
      "What is name? :aziza\n"
     ]
    }
   ],
   "source": [
    "name = input('What is name? :')"
   ]
  },
  {
   "cell_type": "code",
   "execution_count": 12,
   "metadata": {},
   "outputs": [
    {
     "name": "stdout",
     "output_type": "stream",
     "text": [
      "aziza\n"
     ]
    }
   ],
   "source": [
    "print(name)"
   ]
  },
  {
   "cell_type": "code",
   "execution_count": 15,
   "metadata": {},
   "outputs": [
    {
     "name": "stdout",
     "output_type": "stream",
     "text": [
      "What is name? :aziza\n",
      "Hello aziza\n"
     ]
    }
   ],
   "source": [
    "name = input('What is name? :')\n",
    "print('Hello ' + name)"
   ]
  },
  {
   "cell_type": "code",
   "execution_count": 20,
   "metadata": {},
   "outputs": [
    {
     "name": "stdout",
     "output_type": "stream",
     "text": [
      "What is your name? :aziza\n",
      "salom aziza\n"
     ]
    }
   ],
   "source": [
    "name = input('What is your name? :')\n",
    "if name == 'anna':\n",
    "    print('privet ' + name)\n",
    "elif name == 'aziza':\n",
    "    print('salom ' + name)"
   ]
  },
  {
   "cell_type": "code",
   "execution_count": 24,
   "metadata": {},
   "outputs": [
    {
     "name": "stdout",
     "output_type": "stream",
     "text": [
      "What is your name? :Aziza\n",
      "Hello Aziza\n"
     ]
    }
   ],
   "source": [
    "name = input('What is your name? :')\n",
    "if name.capitalize() == 'anna':\n",
    "    print('privet ' + name)\n",
    "elif name.capitalize() == 'aziza':\n",
    "    print('salom ' + name)\n",
    "else:\n",
    "    print('Hello ' + name)"
   ]
  },
  {
   "cell_type": "code",
   "execution_count": 26,
   "metadata": {},
   "outputs": [
    {
     "name": "stdout",
     "output_type": "stream",
     "text": [
      "what is your name?? :abdul\n",
      "Sorry you cant come in\n"
     ]
    }
   ],
   "source": [
    "black_list = ['Dilfuza', 'Murodbey', 'Abdul' 'Masha']\n",
    "student = input('what is your name?? :')\n",
    "\n",
    "if student.capitalize() in black_list:\n",
    "    print('Sorry you cant come in')"
   ]
  },
  {
   "cell_type": "code",
   "execution_count": 31,
   "metadata": {},
   "outputs": [
    {
     "name": "stdout",
     "output_type": "stream",
     "text": [
      "what is your name?? :masha\n",
      "Sorry you cant come in\n"
     ]
    }
   ],
   "source": [
    "black_list = ['Dilfuza', 'Murodbey', 'Abdul', 'Masha']\n",
    "student = input('what is your name?? :')\n",
    "\n",
    "if student.capitalize() in black_list:\n",
    "    print('Sorry you cant come in')\n",
    "else:\n",
    "    print('Hello come in please')\n",
    "    "
   ]
  },
  {
   "cell_type": "code",
   "execution_count": 34,
   "metadata": {},
   "outputs": [
    {
     "name": "stdout",
     "output_type": "stream",
     "text": [
      "What is your name? :masha\n",
      "What is your birthday <year>? :1984\n",
      "Your name is Masha, and your age is 35\n"
     ]
    }
   ],
   "source": [
    "name = input('What is your name? :').capitalize()\n",
    "year = int(input('What is your birthday <year>? :'))\n",
    "\n",
    "age = 2019 - year\n",
    "print(f\"Your name is {name}, and your age is {age}\")"
   ]
  },
  {
   "cell_type": "code",
   "execution_count": 38,
   "metadata": {},
   "outputs": [
    {
     "name": "stdout",
     "output_type": "stream",
     "text": [
      "Closed\n"
     ]
    }
   ],
   "source": [
    "door = False\n",
    "\n",
    "if door:\n",
    "    print('Open')\n",
    "else:\n",
    "    print('Closed')"
   ]
  },
  {
   "cell_type": "code",
   "execution_count": 39,
   "metadata": {},
   "outputs": [
    {
     "name": "stdout",
     "output_type": "stream",
     "text": [
      "Open\n"
     ]
    }
   ],
   "source": [
    "door = True\n",
    "\n",
    "if door:\n",
    "    print('Open')\n",
    "else:\n",
    "    print('Closed')"
   ]
  },
  {
   "cell_type": "code",
   "execution_count": 48,
   "metadata": {},
   "outputs": [
    {
     "name": "stdout",
     "output_type": "stream",
     "text": [
      "redhat\n"
     ]
    }
   ],
   "source": [
    "student = {\n",
    "    'first_name' : 'aziza',\n",
    "    'last_name': 'nemat',\n",
    "    'username': 'azika',\n",
    "    'password': 'redhat',\n",
    "    'status': False,\n",
    "    'classes' : ['Python', 'Terraform', 'Ansible']\n",
    "}\n",
    "print(student['password'])"
   ]
  },
  {
   "cell_type": "code",
   "execution_count": null,
   "metadata": {},
   "outputs": [],
   "source": []
  }
 ],
 "metadata": {
  "kernelspec": {
   "display_name": "Python 3",
   "language": "python",
   "name": "python3"
  },
  "language_info": {
   "codemirror_mode": {
    "name": "ipython",
    "version": 3
   },
   "file_extension": ".py",
   "mimetype": "text/x-python",
   "name": "python",
   "nbconvert_exporter": "python",
   "pygments_lexer": "ipython3",
   "version": "3.6.5"
  }
 },
 "nbformat": 4,
 "nbformat_minor": 2
}
